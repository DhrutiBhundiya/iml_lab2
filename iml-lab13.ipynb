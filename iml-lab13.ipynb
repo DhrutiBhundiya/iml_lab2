{
 "cells": [
  {
   "cell_type": "code",
   "execution_count": 1,
   "id": "0c734b34",
   "metadata": {
    "execution": {
     "iopub.execute_input": "2023-11-04T11:30:15.173209Z",
     "iopub.status.busy": "2023-11-04T11:30:15.172887Z",
     "iopub.status.idle": "2023-11-04T11:30:16.554753Z",
     "shell.execute_reply": "2023-11-04T11:30:16.552996Z"
    },
    "papermill": {
     "duration": 1.387332,
     "end_time": "2023-11-04T11:30:16.556741",
     "exception": false,
     "start_time": "2023-11-04T11:30:15.169409",
     "status": "completed"
    },
    "tags": []
   },
   "outputs": [
    {
     "name": "stdout",
     "output_type": "stream",
     "text": [
      "Accuracy of the K-NN classifier with k=3: 100.00%\n"
     ]
    }
   ],
   "source": [
    "#Dhruti Bhundiya\n",
    "#216270307088\n",
    "# Write a Python program to implement K-Nearest Neighbour supervised\n",
    "from sklearn import datasets\n",
    "from sklearn.model_selection import train_test_split\n",
    "from sklearn.neighbors import KNeighborsClassifier\n",
    "from sklearn.metrics import accuracy_score\n",
    "iris = datasets.load_iris()\n",
    "X = iris.data  \n",
    "y = iris.target  \n",
    "X_train, X_test, y_train, y_test = train_test_split(X, y, test_size=0.2, random_state=42)\n",
    "k = 3  \n",
    "knn_classifier = KNeighborsClassifier(n_neighbors=k)\n",
    "knn_classifier.fit(X_train, y_train)\n",
    "y_pred = knn_classifier.predict(X_test)\n",
    "accuracy = accuracy_score(y_test, y_pred)\n",
    "print(f\"Accuracy of the K-NN classifier with k={k}: {accuracy * 100:.2f}%\")"
   ]
  },
  {
   "cell_type": "code",
   "execution_count": null,
   "id": "f7d71a3b",
   "metadata": {
    "papermill": {
     "duration": 0.00282,
     "end_time": "2023-11-04T11:30:16.561078",
     "exception": false,
     "start_time": "2023-11-04T11:30:16.558258",
     "status": "completed"
    },
    "tags": []
   },
   "outputs": [],
   "source": []
  }
 ],
 "metadata": {
  "kernelspec": {
   "display_name": "Python 3",
   "language": "python",
   "name": "python3"
  },
  "language_info": {
   "codemirror_mode": {
    "name": "ipython",
    "version": 3
   },
   "file_extension": ".py",
   "mimetype": "text/x-python",
   "name": "python",
   "nbconvert_exporter": "python",
   "pygments_lexer": "ipython3",
   "version": "3.10.12"
  },
  "papermill": {
   "default_parameters": {},
   "duration": 4.472929,
   "end_time": "2023-11-04T11:30:16.981802",
   "environment_variables": {},
   "exception": null,
   "input_path": "__notebook__.ipynb",
   "output_path": "__notebook__.ipynb",
   "parameters": {},
   "start_time": "2023-11-04T11:30:12.508873",
   "version": "2.4.0"
  }
 },
 "nbformat": 4,
 "nbformat_minor": 5
}
